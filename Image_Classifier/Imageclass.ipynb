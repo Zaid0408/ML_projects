{
 "cells": [
  {
   "attachments": {},
   "cell_type": "markdown",
   "metadata": {},
   "source": [
    "# Image classifier problem\n",
    "## Description: To classify whether image is happy or sad using Machine learning and nueral networks\n",
    "### Steps to be followed in this project are:\n",
    "1. Importing the Data of images \n",
    "2. Building a data pipeline\n",
    "3. Creating a deep Nueral network classifier\n",
    "4. Evaluating the data using the test set of images"
   ]
  },
  {
   "attachments": {},
   "cell_type": "markdown",
   "metadata": {},
   "source": [
    "# 1 Set up and load the data\n",
    "### 1.1 The dependencies needed are \n",
    "1. Matplotlib\n",
    "2. Tensorflow\n",
    "3. Tensorflow-gpu\n",
    "4. Opencv-python \n",
    "### 1.2 Import the necessary header files\n",
    "\n"
   ]
  },
  {
   "cell_type": "code",
   "execution_count": 3,
   "metadata": {},
   "outputs": [],
   "source": [
    "import tensorflow as tf\n",
    "import os #os is mainly used to navigate through file structures"
   ]
  },
  {
   "cell_type": "code",
   "execution_count": 4,
   "metadata": {},
   "outputs": [
    {
     "data": {
      "text/plain": [
       "1"
      ]
     },
     "execution_count": 4,
     "metadata": {},
     "output_type": "execute_result"
    }
   ],
   "source": [
    "#to check for number of gpus in the system, GPU makes computation easier\n",
    "gpus=tf.config.experimental.list_physical_devices('CPU')\n",
    "len(gpus)\n",
    "#if OUT OF MEMORY or OOM error comes then no need to compute project as it means less storage on device"
   ]
  },
  {
   "cell_type": "markdown",
   "metadata": {},
   "source": [
    "### 1.2 Remove dodgy images\n",
    "Download a few images first and then use opencv to remove dodgy images"
   ]
  },
  {
   "cell_type": "code",
   "execution_count": 5,
   "metadata": {},
   "outputs": [],
   "source": [
    "import cv2\n",
    "import imghdr"
   ]
  },
  {
   "cell_type": "code",
   "execution_count": 6,
   "metadata": {},
   "outputs": [
    {
     "data": {
      "text/plain": [
       "['dogs', 'happy', 'cats', '.DS_Store', 'sad']"
      ]
     },
     "execution_count": 6,
     "metadata": {},
     "output_type": "execute_result"
    }
   ],
   "source": [
    "data_dir='data'\n",
    "os.listdir(data_dir)#func helps in listing folders inside given folder"
   ]
  },
  {
   "cell_type": "code",
   "execution_count": 8,
   "metadata": {},
   "outputs": [
    {
     "data": {
      "text/plain": [
       "'jpg'"
      ]
     },
     "execution_count": 8,
     "metadata": {},
     "output_type": "execute_result"
    }
   ],
   "source": [
    "image_ext=['jpeg','jpg','png','bmp']\n",
    "image_ext[1]#array of image extensions that will help in classifying the necessary images"
   ]
  }
 ],
 "metadata": {
  "kernelspec": {
   "display_name": "Python 3",
   "language": "python",
   "name": "python3"
  },
  "language_info": {
   "codemirror_mode": {
    "name": "ipython",
    "version": 3
   },
   "file_extension": ".py",
   "mimetype": "text/x-python",
   "name": "python",
   "nbconvert_exporter": "python",
   "pygments_lexer": "ipython3",
   "version": "3.9.6"
  },
  "orig_nbformat": 4
 },
 "nbformat": 4,
 "nbformat_minor": 2
}
